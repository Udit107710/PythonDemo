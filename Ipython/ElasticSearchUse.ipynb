{
 "cells": [
  {
   "cell_type": "markdown",
   "metadata": {},
   "source": [
    "# [Elasticsearch](https://www.elastic.co/products/elasticsearch)\n",
    "Elasticsearch is a highly scalable open-source full-text search and analytics engine that makes life easy when dealing with storing, retrieving and deleting large datasets. The main aim of this tutorial is to look into the basics of elasticsearch and how to incorporate elasticsearch into python applications."
   ]
  },
  {
   "cell_type": "markdown",
   "metadata": {},
   "source": [
    "### CRUD\n",
    "The API documentation of Elasticsearch for python can be found on [documentation](https://elasticsearch-py.readthedocs.io/en/master/api.html#)\n",
    ". We'll be creating a single elasticsearch index and work on that.\n",
    "First, we'll create multiple documents and then read, update and delete them from the created index."
   ]
  },
  {
   "cell_type": "code",
   "execution_count": 1,
   "metadata": {},
   "outputs": [],
   "source": [
    "from elasticsearch import Elasticsearch\n",
    "from elasticsearch import helpers\n",
    "from datetime import datetime\n",
    "import json\n",
    "import ast"
   ]
  },
  {
   "cell_type": "markdown",
   "metadata": {},
   "source": [
    "### Initialising the object and creating an index"
   ]
  },
  {
   "cell_type": "code",
   "execution_count": 2,
   "metadata": {},
   "outputs": [
    {
     "data": {
      "text/plain": [
       "{'acknowledged': True, 'shards_acknowledged': True, 'index': 'test'}"
      ]
     },
     "execution_count": 2,
     "metadata": {},
     "output_type": "execute_result"
    }
   ],
   "source": [
    "es = Elasticsearch()\n",
    "es.indices.create(index= 'test', ignore= 400)"
   ]
  },
  {
   "cell_type": "code",
   "execution_count": 3,
   "metadata": {},
   "outputs": [
    {
     "name": "stdout",
     "output_type": "stream",
     "text": [
      "health status index    uuid                   pri rep docs.count docs.deleted store.size pri.store.size\n",
      "yellow open   my_index p8P485TkRuqUDHZGMEjAbA   5   1          1            0      6.4kb          6.4kb\n",
      "yellow open   test     2ib_u-xPSu6wfEL2Qt6m4A   5   1          0            0       631b           631b\n",
      "green  open   .kibana  PVqMSgdWRN-xD8cRZuDylg   1   0          2            0     10.6kb         10.6kb\n",
      "yellow open   udit     85JdcJ1WSESvqfuIPnr5yA   5   1          0            0      1.2kb          1.2kb\n",
      "yellow open   data     5htQFDExSmypAAbsm-uRWg   5   1          0            0      1.2kb          1.2kb\n",
      "\n"
     ]
    }
   ],
   "source": [
    "print(es.cat.indices(v=True))                    # Lisitng the satus of indices"
   ]
  },
  {
   "cell_type": "markdown",
   "metadata": {},
   "source": [
    "Here we can see the status and other attributes of different indices\n",
    "To know more: [cat indices](https://www.elastic.co/guide/en/elasticsearch/reference/current/cat-indices.html)"
   ]
  },
  {
   "cell_type": "markdown",
   "metadata": {},
   "source": [
    "### CREATE"
   ]
  },
  {
   "cell_type": "code",
   "execution_count": 5,
   "metadata": {},
   "outputs": [
    {
     "name": "stdout",
     "output_type": "stream",
     "text": [
      "{'username': 'udit', 'sex': 'male', 'occupation': 'eveloper', 'status': 'dead', 'age': 99}\n"
     ]
    },
    {
     "data": {
      "text/plain": [
       "{'_index': 'my_index',\n",
       " '_type': 'users',\n",
       " '_id': '01',\n",
       " '_version': 2,\n",
       " 'result': 'updated',\n",
       " '_shards': {'total': 2, 'successful': 1, 'failed': 0},\n",
       " '_seq_no': 2,\n",
       " '_primary_term': 1}"
      ]
     },
     "execution_count": 5,
     "metadata": {},
     "output_type": "execute_result"
    }
   ],
   "source": [
    "json_string = {\"username\":\"udit\",\"sex\": \"male\",\"occupation\": \"eveloper\",\"status\": \"dead\", \"age\": 99 }\n",
    "\n",
    "print(json_string)\n",
    "es.index(index ='my_index', doc_type='users',id='01',body = json_string )  ## Testing with dummy values"
   ]
  },
  {
   "cell_type": "markdown",
   "metadata": {},
   "source": [
    "#### Time to input some real data from a sample json file I made using [json-generator](https://www.json-generator.com/)"
   ]
  },
  {
   "cell_type": "code",
   "execution_count": 6,
   "metadata": {},
   "outputs": [],
   "source": [
    "with open(\"../datasets/sample.json\") as read_file:\n",
    "    data = json.loads(read_file.read())"
   ]
  },
  {
   "cell_type": "code",
   "execution_count": 7,
   "metadata": {},
   "outputs": [],
   "source": [
    "for i in range(0, len(data)):\n",
    "    es.index(index='test', doc_type='users',id=str(i),body=data[i])"
   ]
  },
  {
   "cell_type": "markdown",
   "metadata": {},
   "source": [
    "## READ\n",
    "To search documents in elasticsearch we use complex DSL queries. You can learn more about DSL queries from [DSL Query](https://www.elastic.co/guide/en/elasticsearch/reference/current/query-filter-context.html)"
   ]
  },
  {
   "cell_type": "code",
   "execution_count": 8,
   "metadata": {},
   "outputs": [],
   "source": [
    "res = es.search(index='test', doc_type='users',body='{\"query\" : { \"match_all\": {} } }')"
   ]
  },
  {
   "cell_type": "code",
   "execution_count": 9,
   "metadata": {},
   "outputs": [
    {
     "data": {
      "text/plain": [
       "[{'_index': 'test',\n",
       "  '_type': 'users',\n",
       "  '_id': '0',\n",
       "  '_score': 1.0,\n",
       "  '_source': {'name': 'Rose Singleton',\n",
       "   'isActive': True,\n",
       "   'balance': '$1,691.11',\n",
       "   'picture': 'http://placehold.it/32x32',\n",
       "   'age': 32,\n",
       "   'eyeColor': 'green',\n",
       "   'gender': 'male',\n",
       "   'company': 'ZANILLA',\n",
       "   'email': 'rosesingleton@zanilla.com',\n",
       "   'phone': '+1 (949) 556-3050',\n",
       "   'address': '384 Bristol Street, Churchill, Tennessee, 5071',\n",
       "   'about': 'Aliqua elit sint ullamco magna incididunt esse fugiat minim id culpa sit velit et. Velit enim velit laboris eiusmod do ut sunt eiusmod officia ad qui veniam quis minim. Dolor laboris eu cillum exercitation. Ea et ipsum consectetur dolore mollit labore ipsum ad adipisicing dolor duis exercitation minim labore. Deserunt irure sint velit enim eiusmod laborum aliquip Lorem. Anim do adipisicing laboris exercitation velit.\\r\\n',\n",
       "   'registered': '2014-05-01T02:45:16 -06:-30',\n",
       "   'latitude': 24.460019,\n",
       "   'longitude': 1.16329,\n",
       "   'tags': ['enim',\n",
       "    'exercitation',\n",
       "    'ad',\n",
       "    'quis',\n",
       "    'adipisicing',\n",
       "    'elit',\n",
       "    'tempor'],\n",
       "   'friends': [{'id': 0, 'name': 'Sallie Livingston'},\n",
       "    {'id': 1, 'name': 'Barker Middleton'},\n",
       "    {'id': 2, 'name': 'Santiago Benton'}],\n",
       "   'greeting': 'Hello, Rose Singleton! You have 3 unread messages.',\n",
       "   'favoriteFruit': 'banana'}},\n",
       " {'_index': 'test',\n",
       "  '_type': 'users',\n",
       "  '_id': '14',\n",
       "  '_score': 1.0,\n",
       "  '_source': {'name': 'Lang Cabrera',\n",
       "   'isActive': False,\n",
       "   'balance': '$1,885.44',\n",
       "   'picture': 'http://placehold.it/32x32',\n",
       "   'age': 33,\n",
       "   'eyeColor': 'green',\n",
       "   'gender': 'male',\n",
       "   'company': 'PORTALIS',\n",
       "   'email': 'langcabrera@portalis.com',\n",
       "   'phone': '+1 (930) 439-3493',\n",
       "   'address': '477 Frank Court, Twilight, Colorado, 4243',\n",
       "   'about': 'Laboris nulla mollit nulla fugiat exercitation enim amet anim adipisicing eiusmod in commodo. Exercitation dolor ad do et magna elit occaecat pariatur id commodo. Labore eu consectetur dolor cillum occaecat consequat excepteur ex nulla laboris do veniam amet veniam.\\r\\n',\n",
       "   'registered': '2014-09-08T05:08:32 -06:-30',\n",
       "   'latitude': -34.070593,\n",
       "   'longitude': -6.460461,\n",
       "   'tags': ['reprehenderit',\n",
       "    'do',\n",
       "    'incididunt',\n",
       "    'ipsum',\n",
       "    'ex',\n",
       "    'do',\n",
       "    'pariatur'],\n",
       "   'friends': [{'id': 0, 'name': 'Freda Barrera'},\n",
       "    {'id': 1, 'name': 'Haley Shields'},\n",
       "    {'id': 2, 'name': 'Wong Parks'}],\n",
       "   'greeting': 'Hello, Lang Cabrera! You have 2 unread messages.',\n",
       "   'favoriteFruit': 'strawberry'}},\n",
       " {'_index': 'test',\n",
       "  '_type': 'users',\n",
       "  '_id': '19',\n",
       "  '_score': 1.0,\n",
       "  '_source': {'name': 'Justice Hendrix',\n",
       "   'isActive': True,\n",
       "   'balance': '$3,650.13',\n",
       "   'picture': 'http://placehold.it/32x32',\n",
       "   'age': 37,\n",
       "   'eyeColor': 'blue',\n",
       "   'gender': 'male',\n",
       "   'company': 'QUOTEZART',\n",
       "   'email': 'justicehendrix@quotezart.com',\n",
       "   'phone': '+1 (933) 552-3808',\n",
       "   'address': '989 Sullivan Place, Elliott, Louisiana, 6297',\n",
       "   'about': 'Quis id nostrud elit qui et culpa adipisicing. Velit nulla excepteur duis do consectetur Lorem proident ipsum eu voluptate. Ut occaecat eu in qui laborum est minim adipisicing cupidatat ea.\\r\\n',\n",
       "   'registered': '2015-12-12T04:36:47 -06:-30',\n",
       "   'latitude': 38.180026,\n",
       "   'longitude': -71.053211,\n",
       "   'tags': ['officia', 'mollit', 'est', 'in', 'eu', 'Lorem', 'culpa'],\n",
       "   'friends': [{'id': 0, 'name': 'Cline Mccormick'},\n",
       "    {'id': 1, 'name': 'Janet Vincent'},\n",
       "    {'id': 2, 'name': 'Tia Rivera'}],\n",
       "   'greeting': 'Hello, Justice Hendrix! You have 9 unread messages.',\n",
       "   'favoriteFruit': 'strawberry'}},\n",
       " {'_index': 'test',\n",
       "  '_type': 'users',\n",
       "  '_id': '5',\n",
       "  '_score': 1.0,\n",
       "  '_source': {'name': 'Josefa Lott',\n",
       "   'isActive': False,\n",
       "   'balance': '$3,100.61',\n",
       "   'picture': 'http://placehold.it/32x32',\n",
       "   'age': 21,\n",
       "   'eyeColor': 'blue',\n",
       "   'gender': 'female',\n",
       "   'company': 'FLEXIGEN',\n",
       "   'email': 'josefalott@flexigen.com',\n",
       "   'phone': '+1 (827) 494-2845',\n",
       "   'address': '254 Cortelyou Road, Bethpage, New Mexico, 6969',\n",
       "   'about': 'Fugiat proident sint labore adipisicing excepteur anim aute velit quis consequat velit minim in id. Ipsum est quis id labore consequat aliquip ullamco ex et. Nulla velit Lorem Lorem consequat cillum tempor eu laboris id occaecat do Lorem. Cupidatat minim adipisicing do eu. Pariatur occaecat eu do duis.\\r\\n',\n",
       "   'registered': '2014-04-10T08:56:17 -06:-30',\n",
       "   'latitude': 69.27516,\n",
       "   'longitude': -158.961759,\n",
       "   'tags': ['laborum',\n",
       "    'cupidatat',\n",
       "    'tempor',\n",
       "    'elit',\n",
       "    'ea',\n",
       "    'aliquip',\n",
       "    'mollit'],\n",
       "   'friends': [{'id': 0, 'name': 'Dorthy Mitchell'},\n",
       "    {'id': 1, 'name': 'Adams Beach'},\n",
       "    {'id': 2, 'name': 'Hobbs Dean'}],\n",
       "   'greeting': 'Hello, Josefa Lott! You have 1 unread messages.',\n",
       "   'favoriteFruit': 'banana'}},\n",
       " {'_index': 'test',\n",
       "  '_type': 'users',\n",
       "  '_id': '8',\n",
       "  '_score': 1.0,\n",
       "  '_source': {'name': 'Thelma Marquez',\n",
       "   'isActive': True,\n",
       "   'balance': '$1,971.52',\n",
       "   'picture': 'http://placehold.it/32x32',\n",
       "   'age': 40,\n",
       "   'eyeColor': 'blue',\n",
       "   'gender': 'female',\n",
       "   'company': 'ULTRIMAX',\n",
       "   'email': 'thelmamarquez@ultrimax.com',\n",
       "   'phone': '+1 (965) 500-3263',\n",
       "   'address': '679 Hutchinson Court, Trexlertown, South Carolina, 817',\n",
       "   'about': 'Dolore nulla Lorem minim incididunt laborum ea consectetur. Officia deserunt laboris reprehenderit eiusmod ipsum. Magna aute incididunt amet ut consectetur cillum voluptate sit laboris ex. Irure est sit ea non do id occaecat amet consectetur est aliqua officia cillum in. Est veniam mollit deserunt magna sint quis laboris fugiat irure esse incididunt. Reprehenderit consequat ullamco culpa proident velit ullamco. Id adipisicing ea ut velit anim cupidatat incididunt.\\r\\n',\n",
       "   'registered': '2017-01-06T08:03:57 -06:-30',\n",
       "   'latitude': -58.63979,\n",
       "   'longitude': 107.017411,\n",
       "   'tags': ['et', 'deserunt', 'pariatur', 'id', 'duis', 'tempor', 'eu'],\n",
       "   'friends': [{'id': 0, 'name': 'Willie Sims'},\n",
       "    {'id': 1, 'name': 'Cooke Bailey'},\n",
       "    {'id': 2, 'name': 'Sofia Baxter'}],\n",
       "   'greeting': 'Hello, Thelma Marquez! You have 4 unread messages.',\n",
       "   'favoriteFruit': 'banana'}},\n",
       " {'_index': 'test',\n",
       "  '_type': 'users',\n",
       "  '_id': '9',\n",
       "  '_score': 1.0,\n",
       "  '_source': {'name': 'Brock Bernard',\n",
       "   'isActive': True,\n",
       "   'balance': '$3,815.89',\n",
       "   'picture': 'http://placehold.it/32x32',\n",
       "   'age': 40,\n",
       "   'eyeColor': 'brown',\n",
       "   'gender': 'male',\n",
       "   'company': 'RENOVIZE',\n",
       "   'email': 'brockbernard@renovize.com',\n",
       "   'phone': '+1 (841) 529-3670',\n",
       "   'address': '741 Kings Hwy, Bison, Indiana, 5593',\n",
       "   'about': 'Nulla mollit ex fugiat duis aliquip qui. Tempor tempor enim aliqua commodo cupidatat minim ex sint dolore. Nisi consequat dolore excepteur consequat consectetur fugiat nulla velit proident. Qui cupidatat et magna esse magna veniam laborum ea commodo. Tempor irure pariatur proident magna ut mollit qui nisi laboris laborum excepteur nostrud. Irure est incididunt est voluptate labore quis non labore eu cillum ut exercitation. Qui fugiat laborum deserunt anim consectetur ipsum elit.\\r\\n',\n",
       "   'registered': '2014-05-05T08:00:01 -06:-30',\n",
       "   'latitude': -27.732331,\n",
       "   'longitude': -167.980916,\n",
       "   'tags': ['tempor',\n",
       "    'sunt',\n",
       "    'pariatur',\n",
       "    'sunt',\n",
       "    'incididunt',\n",
       "    'nulla',\n",
       "    'voluptate'],\n",
       "   'friends': [{'id': 0, 'name': 'Erin Combs'},\n",
       "    {'id': 1, 'name': 'Carissa Clark'},\n",
       "    {'id': 2, 'name': 'Tracy James'}],\n",
       "   'greeting': 'Hello, Brock Bernard! You have 2 unread messages.',\n",
       "   'favoriteFruit': 'apple'}},\n",
       " {'_index': 'test',\n",
       "  '_type': 'users',\n",
       "  '_id': '10',\n",
       "  '_score': 1.0,\n",
       "  '_source': {'name': 'Susan Glass',\n",
       "   'isActive': False,\n",
       "   'balance': '$1,248.25',\n",
       "   'picture': 'http://placehold.it/32x32',\n",
       "   'age': 36,\n",
       "   'eyeColor': 'brown',\n",
       "   'gender': 'female',\n",
       "   'company': 'VISALIA',\n",
       "   'email': 'susanglass@visalia.com',\n",
       "   'phone': '+1 (976) 594-2395',\n",
       "   'address': '949 Gerald Court, Westwood, Delaware, 6930',\n",
       "   'about': 'Minim duis Lorem irure consectetur Lorem ex eiusmod do nisi sit excepteur laborum amet. Officia dolore nostrud non in commodo labore exercitation nostrud occaecat est eiusmod aute esse. Lorem cillum aliquip incididunt cupidatat duis. Fugiat enim laboris dolor exercitation aliquip qui duis laboris commodo sint ullamco anim veniam Lorem. In commodo officia ipsum dolore sunt quis incididunt labore culpa et cupidatat magna fugiat commodo.\\r\\n',\n",
       "   'registered': '2017-04-10T08:30:31 -06:-30',\n",
       "   'latitude': 1.17399,\n",
       "   'longitude': 35.447456,\n",
       "   'tags': ['ad',\n",
       "    'sint',\n",
       "    'adipisicing',\n",
       "    'proident',\n",
       "    'reprehenderit',\n",
       "    'ullamco',\n",
       "    'do'],\n",
       "   'friends': [{'id': 0, 'name': 'Schwartz Grant'},\n",
       "    {'id': 1, 'name': 'Lorie Harmon'},\n",
       "    {'id': 2, 'name': 'Maryellen Dale'}],\n",
       "   'greeting': 'Hello, Susan Glass! You have 9 unread messages.',\n",
       "   'favoriteFruit': 'banana'}},\n",
       " {'_index': 'test',\n",
       "  '_type': 'users',\n",
       "  '_id': '12',\n",
       "  '_score': 1.0,\n",
       "  '_source': {'name': 'Best Oliver',\n",
       "   'isActive': False,\n",
       "   'balance': '$1,834.62',\n",
       "   'picture': 'http://placehold.it/32x32',\n",
       "   'age': 27,\n",
       "   'eyeColor': 'blue',\n",
       "   'gender': 'male',\n",
       "   'company': 'ZENOLUX',\n",
       "   'email': 'bestoliver@zenolux.com',\n",
       "   'phone': '+1 (945) 471-3333',\n",
       "   'address': '444 Gerritsen Avenue, Caln, Alabama, 586',\n",
       "   'about': 'Nulla commodo cupidatat adipisicing irure sint veniam enim. Proident aliqua proident cupidatat non labore ullamco mollit velit non amet deserunt laboris non. Ut reprehenderit dolor cillum eiusmod pariatur et excepteur voluptate adipisicing. Consequat nostrud ipsum ea consectetur. Eu exercitation culpa ullamco aliquip et sint deserunt eu irure excepteur esse in mollit exercitation. Laborum pariatur ex ex dolor.\\r\\n',\n",
       "   'registered': '2016-01-19T01:45:30 -06:-30',\n",
       "   'latitude': -53.479219,\n",
       "   'longitude': -49.982135,\n",
       "   'tags': ['exercitation',\n",
       "    'sunt',\n",
       "    'sunt',\n",
       "    'eiusmod',\n",
       "    'Lorem',\n",
       "    'do',\n",
       "    'tempor'],\n",
       "   'friends': [{'id': 0, 'name': 'Alicia Perez'},\n",
       "    {'id': 1, 'name': 'Logan Gutierrez'},\n",
       "    {'id': 2, 'name': 'Herrera Rowe'}],\n",
       "   'greeting': 'Hello, Best Oliver! You have 10 unread messages.',\n",
       "   'favoriteFruit': 'apple'}},\n",
       " {'_index': 'test',\n",
       "  '_type': 'users',\n",
       "  '_id': '2',\n",
       "  '_score': 1.0,\n",
       "  '_source': {'name': 'Mccullough Stafford',\n",
       "   'isActive': False,\n",
       "   'balance': '$1,481.32',\n",
       "   'picture': 'http://placehold.it/32x32',\n",
       "   'age': 31,\n",
       "   'eyeColor': 'green',\n",
       "   'gender': 'male',\n",
       "   'company': 'LOCAZONE',\n",
       "   'email': 'mcculloughstafford@locazone.com',\n",
       "   'phone': '+1 (976) 458-3794',\n",
       "   'address': '680 Bridgewater Street, Thatcher, Iowa, 7299',\n",
       "   'about': 'Dolore duis velit veniam ullamco. Ullamco fugiat Lorem ullamco qui do voluptate sit eiusmod ullamco. Aliqua et minim adipisicing mollit nisi duis. Eu minim velit proident commodo do nisi incididunt id. Velit cupidatat duis elit in eiusmod exercitation qui occaecat non aliquip eu id irure.\\r\\n',\n",
       "   'registered': '2014-03-03T06:01:58 -06:-30',\n",
       "   'latitude': 23.183334,\n",
       "   'longitude': -52.41527,\n",
       "   'tags': ['est', 'qui', 'do', 'mollit', 'ullamco', 'minim', 'ut'],\n",
       "   'friends': [{'id': 0, 'name': 'Austin Chase'},\n",
       "    {'id': 1, 'name': 'Virgie Morales'},\n",
       "    {'id': 2, 'name': 'Cathy Boyer'}],\n",
       "   'greeting': 'Hello, Mccullough Stafford! You have 1 unread messages.',\n",
       "   'favoriteFruit': 'apple'}},\n",
       " {'_index': 'test',\n",
       "  '_type': 'users',\n",
       "  '_id': '4',\n",
       "  '_score': 1.0,\n",
       "  '_source': {'name': 'Imogene Cook',\n",
       "   'isActive': True,\n",
       "   'balance': '$2,984.72',\n",
       "   'picture': 'http://placehold.it/32x32',\n",
       "   'age': 29,\n",
       "   'eyeColor': 'green',\n",
       "   'gender': 'female',\n",
       "   'company': 'SQUISH',\n",
       "   'email': 'imogenecook@squish.com',\n",
       "   'phone': '+1 (902) 441-3444',\n",
       "   'address': '328 Ovington Court, Inkerman, California, 9314',\n",
       "   'about': 'Tempor consectetur sit Lorem dolor consectetur culpa. Reprehenderit velit adipisicing et do. Non nostrud anim est irure mollit excepteur laboris consequat nulla occaecat velit velit est nisi. Nulla esse ullamco non ipsum nisi eiusmod cupidatat sit. Consectetur nulla laborum incididunt sit voluptate id est eu commodo ad fugiat nulla excepteur ad. Consequat exercitation anim in exercitation sit exercitation cillum proident cupidatat voluptate anim ea qui. Eu tempor sint consectetur cupidatat proident irure est anim occaecat quis fugiat id aliquip occaecat.\\r\\n',\n",
       "   'registered': '2016-04-21T08:27:14 -06:-30',\n",
       "   'latitude': 86.360641,\n",
       "   'longitude': -156.790324,\n",
       "   'tags': ['minim', 'cillum', 'ea', 'commodo', 'laborum', 'velit', 'ad'],\n",
       "   'friends': [{'id': 0, 'name': 'Janelle Stout'},\n",
       "    {'id': 1, 'name': 'Tiffany Fuentes'},\n",
       "    {'id': 2, 'name': 'Foster Rivas'}],\n",
       "   'greeting': 'Hello, Imogene Cook! You have 2 unread messages.',\n",
       "   'favoriteFruit': 'strawberry'}}]"
      ]
     },
     "execution_count": 9,
     "metadata": {},
     "output_type": "execute_result"
    }
   ],
   "source": [
    "res['hits']['hits']"
   ]
  },
  {
   "cell_type": "markdown",
   "metadata": {},
   "source": [
    "Hence we can see that there are 20 objects which we inserted. You can play more with the search query to find complex results like finding a user who is male and likes to eat apple."
   ]
  },
  {
   "cell_type": "code",
   "execution_count": 10,
   "metadata": {},
   "outputs": [],
   "source": [
    "query = \"\"\"\n",
    "{ \"query\": \n",
    "    {\n",
    "            \"bool\": { \n",
    "                      \"must\": [\n",
    "                                { \"match\": { \"gender\":   \"male\"        }}, \n",
    "                                { \"match\": { \"favoriteFruit\": \"apple\" }}  \n",
    "                              ]\n",
    "                     }\n",
    "    }\n",
    "}\n",
    "\"\"\"\n",
    "\n",
    "res = es.search(index='test',doc_type='users',body=query )"
   ]
  },
  {
   "cell_type": "code",
   "execution_count": 11,
   "metadata": {},
   "outputs": [
    {
     "data": {
      "text/plain": [
       "['Brock Bernard', 'Best Oliver', 'Mccullough Stafford']"
      ]
     },
     "execution_count": 11,
     "metadata": {},
     "output_type": "execute_result"
    }
   ],
   "source": [
    "[res['hits']['hits'][i]['_source']['name'] for i in range(0,len(res['hits']['hits']))]"
   ]
  },
  {
   "cell_type": "markdown",
   "metadata": {},
   "source": [
    "Looks like there are 3 males who like to eat apple"
   ]
  },
  {
   "cell_type": "markdown",
   "metadata": {},
   "source": [
    "## UPDATE\n",
    "To show how we can update existing doxuments in Elasticsearch we will change the 'eyeColor' field of the document with id 3."
   ]
  },
  {
   "cell_type": "code",
   "execution_count": 12,
   "metadata": {},
   "outputs": [
    {
     "data": {
      "text/plain": [
       "'brown'"
      ]
     },
     "execution_count": 12,
     "metadata": {},
     "output_type": "execute_result"
    }
   ],
   "source": [
    "query= \"\"\"\n",
    "{\n",
    "    \"query\": {\n",
    "                \"term\" : {\n",
    "                            \"_id\": \"3\"\n",
    "                           }\n",
    "             }\n",
    "}\n",
    "\"\"\"\n",
    "res = es.search(index='test', doc_type='users',body=query)\n",
    "res['hits']['hits'][0]['_source']['eyeColor']"
   ]
  },
  {
   "cell_type": "markdown",
   "metadata": {},
   "source": [
    "We can see that it is 'brown' now let's change it to 'blue'"
   ]
  },
  {
   "cell_type": "code",
   "execution_count": 13,
   "metadata": {},
   "outputs": [
    {
     "data": {
      "text/plain": [
       "{'_index': 'test',\n",
       " '_type': 'users',\n",
       " '_id': '3',\n",
       " '_version': 2,\n",
       " 'result': 'updated',\n",
       " '_shards': {'total': 2, 'successful': 1, 'failed': 0},\n",
       " '_seq_no': 3,\n",
       " '_primary_term': 1}"
      ]
     },
     "execution_count": 13,
     "metadata": {},
     "output_type": "execute_result"
    }
   ],
   "source": [
    "query=\"\"\"\n",
    "{\n",
    "    \"doc\": {\n",
    "               \"eyeColor\" : \"blue\" \n",
    "             }\n",
    "}\n",
    "\"\"\"\n",
    "res = es.update(index='test', doc_type='users',id='3',body=query)\n",
    "\n",
    "res"
   ]
  },
  {
   "cell_type": "markdown",
   "metadata": {},
   "source": [
    "The operation was success and now the value has been updated"
   ]
  },
  {
   "cell_type": "markdown",
   "metadata": {},
   "source": [
    "## DELETE\n",
    "There are two ways to delete a document in Elasticsearch<br>\n",
    "1. deleting specific document based on id\n",
    "2. deleting document(s) by use of query<br>\n",
    "<br>\n",
    "First I will show you how to do it by query and for that we we'll delete the data of users who are male and eat apple."
   ]
  },
  {
   "cell_type": "code",
   "execution_count": 14,
   "metadata": {},
   "outputs": [
    {
     "name": "stdout",
     "output_type": "stream",
     "text": [
      "{'took': 24, 'timed_out': False, 'total': 3, 'deleted': 3, 'batches': 1, 'version_conflicts': 0, 'noops': 0, 'retries': {'bulk': 0, 'search': 0}, 'throttled_millis': 0, 'requests_per_second': -1.0, 'throttled_until_millis': 0, 'failures': []}\n"
     ]
    }
   ],
   "source": [
    "query=\"\"\"\n",
    "{ \"query\": \n",
    "    {\n",
    "            \"bool\": { \n",
    "                      \"must\": [\n",
    "                                { \"match\": { \"gender\":   \"male\"        }}, \n",
    "                                { \"match\": { \"favoriteFruit\": \"apple\" }}  \n",
    "                              ]\n",
    "                     }\n",
    "    }\n",
    "}\n",
    "\"\"\"\n",
    "res = es.delete_by_query(index='test', doc_type='users', body=query)\n",
    "print(res)"
   ]
  },
  {
   "cell_type": "markdown",
   "metadata": {},
   "source": [
    "We can see that the documents which were returned to us in the search query has now been deleted. For confirmation you can even re-run that cell. <br>\n",
    "Now, we'll delete a document by specific id."
   ]
  },
  {
   "cell_type": "code",
   "execution_count": 15,
   "metadata": {},
   "outputs": [
    {
     "data": {
      "text/plain": [
       "{'_index': 'test',\n",
       " '_type': 'users',\n",
       " '_id': '5',\n",
       " '_version': 2,\n",
       " 'result': 'deleted',\n",
       " '_shards': {'total': 2, 'successful': 1, 'failed': 0},\n",
       " '_seq_no': 7,\n",
       " '_primary_term': 1}"
      ]
     },
     "execution_count": 15,
     "metadata": {},
     "output_type": "execute_result"
    }
   ],
   "source": [
    "es.delete(index='test',doc_type='users',id='5')"
   ]
  },
  {
   "cell_type": "markdown",
   "metadata": {},
   "source": [
    "Now, I'll delete all the documents in my 'test' index"
   ]
  },
  {
   "cell_type": "code",
   "execution_count": 16,
   "metadata": {},
   "outputs": [
    {
     "data": {
      "text/plain": [
       "{'took': 29,\n",
       " 'timed_out': False,\n",
       " 'total': 16,\n",
       " 'deleted': 16,\n",
       " 'batches': 1,\n",
       " 'version_conflicts': 0,\n",
       " 'noops': 0,\n",
       " 'retries': {'bulk': 0, 'search': 0},\n",
       " 'throttled_millis': 0,\n",
       " 'requests_per_second': -1.0,\n",
       " 'throttled_until_millis': 0,\n",
       " 'failures': []}"
      ]
     },
     "execution_count": 16,
     "metadata": {},
     "output_type": "execute_result"
    }
   ],
   "source": [
    "es.delete_by_query(index='test', doc_type='users', body='{\"query\" : { \"match_all\": {} } }')"
   ]
  },
  {
   "cell_type": "markdown",
   "metadata": {},
   "source": [
    "# BYE BYE !!"
   ]
  }
 ],
 "metadata": {
  "kernelspec": {
   "display_name": "Python 3",
   "language": "python",
   "name": "python3"
  },
  "language_info": {
   "codemirror_mode": {
    "name": "ipython",
    "version": 3
   },
   "file_extension": ".py",
   "mimetype": "text/x-python",
   "name": "python",
   "nbconvert_exporter": "python",
   "pygments_lexer": "ipython3",
   "version": "3.6.6"
  }
 },
 "nbformat": 4,
 "nbformat_minor": 2
}
