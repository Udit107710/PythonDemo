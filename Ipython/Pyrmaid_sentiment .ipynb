{
 "cells": [
  {
   "cell_type": "code",
   "execution_count": 1,
   "metadata": {},
   "outputs": [],
   "source": [
    "import os\n",
    "pos_directory = os.fsencode('/home/udit/Python/datasets/aclImdb/train/pos')\n",
    "neg_directory = os.fsencode('/home/udit/Python/datasets/aclImdb/train/neg')"
   ]
  },
  {
   "cell_type": "code",
   "execution_count": 2,
   "metadata": {},
   "outputs": [],
   "source": [
    "pos_ratings = []\n",
    "pos_reviews = []\n",
    "for filename in os.listdir(pos_directory):\n",
    "    file = os.path.join(pos_directory,filename)\n",
    "    text = open(file)\n",
    "    pos_reviews.append(text.read())\n",
    "    text.close()\n",
    "    filename = filename.decode(\"utf-8\")\n",
    "    pos_ratings.append(filename.split('.')[0].split('_')[1])\n",
    "    \n",
    "    \n",
    "neg_ratings = []\n",
    "neg_reviews = []\n",
    "for filename in os.listdir(neg_directory):\n",
    "    file = os.path.join(neg_directory, filename)\n",
    "    text = open(file)\n",
    "    neg_reviews.append(text.read())\n",
    "    text.close()\n",
    "    filename = filename.decode(\"utf-8\")\n",
    "    neg_ratings.append(filename.split('.')[0].split('_')[1])"
   ]
  },
  {
   "cell_type": "code",
   "execution_count": 3,
   "metadata": {},
   "outputs": [],
   "source": [
    "import pandas as pd\n",
    "\n",
    "neg_data = list(zip(neg_ratings,neg_reviews))\n",
    "pos_data = list(zip(pos_ratings,pos_reviews))\n",
    "\n",
    "data = [*neg_data, *pos_data]\n",
    "\n",
    "data_table = pd.DataFrame(data, columns=['Ratings', 'Reviews'])"
   ]
  },
  {
   "cell_type": "code",
   "execution_count": 4,
   "metadata": {},
   "outputs": [],
   "source": [
    "import re\n",
    "for i in range(0,len(data_table)):\n",
    "    data_table['Reviews'][i] = re.sub(r'http\\S+', '', data_table['Reviews'][i])\n",
    "    "
   ]
  },
  {
   "cell_type": "code",
   "execution_count": 16,
   "metadata": {},
   "outputs": [
    {
     "name": "stdout",
     "output_type": "stream",
     "text": [
      "      Ratings                                            Reviews\n",
      "24990       7  I love cartoons. They can show things that fil...\n",
      "24991       8  The premise may seem goofy, but since Murphy's...\n",
      "24992       8  Cusack does his best David Niven in this one, ...\n",
      "24993       7  The significance of French title of this film,...\n",
      "24994      10  I could never remember the name of this show. ...\n",
      "24995       7  Simon Pegg plays the part of Sidney Young, a y...\n",
      "24996       9  I sought this film out because I'm a new Frain...\n",
      "24997      10  It' just funny, watch it!!! <br /><br />OK the...\n",
      "24998       8  This was a very well scripted movie. Great fun...\n",
      "24999       8  \"Amazing Grace\" has a languid feel to it as it...\n"
     ]
    }
   ],
   "source": [
    "print(data_table.tail(10))"
   ]
  },
  {
   "cell_type": "code",
   "execution_count": 6,
   "metadata": {},
   "outputs": [],
   "source": [
    "X_train = data_table['Reviews']\n",
    "y_train = data_table['Ratings']"
   ]
  },
  {
   "cell_type": "code",
   "execution_count": 7,
   "metadata": {},
   "outputs": [],
   "source": [
    "from sklearn.feature_extraction.text import CountVectorizer\n",
    "vect = CountVectorizer()\n",
    "\n",
    "vect.fit(X_train)\n",
    "\n",
    "X_train_dtm = vect.transform(X_train)"
   ]
  },
  {
   "cell_type": "code",
   "execution_count": 8,
   "metadata": {},
   "outputs": [],
   "source": [
    "directory = os.fsdecode('/home/udit/Python/datasets/aclImdb/test/new')\n",
    "\n",
    "reviews_test = []\n",
    "ratings_test = []\n",
    "\n",
    "for filename in os.listdir(directory):\n",
    "    file = os.path.join(directory, filename)\n",
    "    text = open(file)\n",
    "    reviews_test.append(text.read())\n",
    "    text.close()\n",
    "    #filename = filename.decode(\"utf-8\")\n",
    "    ratings_test.append(filename.split('.')[0].split('_')[1])"
   ]
  },
  {
   "cell_type": "code",
   "execution_count": 9,
   "metadata": {},
   "outputs": [],
   "source": [
    "test_data = list(zip(reviews_test, ratings_test))\n",
    "\n",
    "data_table_test = pd.DataFrame(test_data, columns=['Reviews', 'Ratings'])"
   ]
  },
  {
   "cell_type": "code",
   "execution_count": 10,
   "metadata": {},
   "outputs": [],
   "source": [
    "X_test = data_table_test.Reviews\n",
    "y_test = data_table_test.Ratings"
   ]
  },
  {
   "cell_type": "code",
   "execution_count": 11,
   "metadata": {},
   "outputs": [],
   "source": [
    "X_test_dtm = vect.transform(X_test)"
   ]
  },
  {
   "cell_type": "code",
   "execution_count": 12,
   "metadata": {},
   "outputs": [],
   "source": [
    "from sklearn.naive_bayes import MultinomialNB\n",
    "nb = MultinomialNB()"
   ]
  },
  {
   "cell_type": "code",
   "execution_count": 13,
   "metadata": {},
   "outputs": [
    {
     "name": "stdout",
     "output_type": "stream",
     "text": [
      "CPU times: user 249 ms, sys: 11.9 ms, total: 261 ms\n",
      "Wall time: 269 ms\n"
     ]
    },
    {
     "data": {
      "text/plain": [
       "MultinomialNB(alpha=1.0, class_prior=None, fit_prior=True)"
      ]
     },
     "execution_count": 13,
     "metadata": {},
     "output_type": "execute_result"
    }
   ],
   "source": [
    "%time nb.fit(X_train_dtm, y_train)"
   ]
  },
  {
   "cell_type": "code",
   "execution_count": 14,
   "metadata": {},
   "outputs": [],
   "source": [
    "y_pred = nb.predict(X_test_dtm)"
   ]
  },
  {
   "cell_type": "code",
   "execution_count": 15,
   "metadata": {},
   "outputs": [
    {
     "data": {
      "text/plain": [
       "0.3872"
      ]
     },
     "execution_count": 15,
     "metadata": {},
     "output_type": "execute_result"
    }
   ],
   "source": [
    "from sklearn import metrics\n",
    "metrics.accuracy_score(y_test, y_pred)"
   ]
  },
  {
   "cell_type": "code",
   "execution_count": 25,
   "metadata": {},
   "outputs": [
    {
     "data": {
      "text/plain": [
       "0.68868"
      ]
     },
     "execution_count": 25,
     "metadata": {},
     "output_type": "execute_result"
    }
   ],
   "source": [
    "y_pred_1 = nb.predict(X_train_dtm)\n",
    "\n",
    "metrics.accuracy_score(y_train, y_pred_1)"
   ]
  },
  {
   "cell_type": "code",
   "execution_count": null,
   "metadata": {},
   "outputs": [],
   "source": []
  }
 ],
 "metadata": {
  "kernelspec": {
   "display_name": "Python 3",
   "language": "python",
   "name": "python3"
  },
  "language_info": {
   "codemirror_mode": {
    "name": "ipython",
    "version": 3
   },
   "file_extension": ".py",
   "mimetype": "text/x-python",
   "name": "python",
   "nbconvert_exporter": "python",
   "pygments_lexer": "ipython3",
   "version": "3.6.6"
  }
 },
 "nbformat": 4,
 "nbformat_minor": 2
}
