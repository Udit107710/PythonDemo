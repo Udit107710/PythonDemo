{
 "cells": [
  {
   "cell_type": "code",
   "execution_count": 1,
   "metadata": {},
   "outputs": [],
   "source": [
    "import pandas as pd\n",
    "\n",
    "train_data = pd.read_csv('../datasets/LoanTrainData.csv')"
   ]
  },
  {
   "cell_type": "code",
   "execution_count": 2,
   "metadata": {},
   "outputs": [
    {
     "name": "stderr",
     "output_type": "stream",
     "text": [
      "/usr/local/lib/python3.5/dist-packages/pandas/core/generic.py:4619: SettingWithCopyWarning: \n",
      "A value is trying to be set on a copy of a slice from a DataFrame\n",
      "\n",
      "See the caveats in the documentation: http://pandas.pydata.org/pandas-docs/stable/indexing.html#indexing-view-versus-copy\n",
      "  self._update_inplace(new_data)\n",
      "/usr/local/lib/python3.5/dist-packages/pandas/core/generic.py:3643: SettingWithCopyWarning: \n",
      "A value is trying to be set on a copy of a slice from a DataFrame.\n",
      "Try using .loc[row_indexer,col_indexer] = value instead\n",
      "\n",
      "See the caveats in the documentation: http://pandas.pydata.org/pandas-docs/stable/indexing.html#indexing-view-versus-copy\n",
      "  self[name] = value\n"
     ]
    }
   ],
   "source": [
    "X = train_data[['Dependents','Education','Self_Employed','ApplicantIncome','CoapplicantIncome','LoanAmount','Loan_Amount_Term','Credit_History']]\n",
    "y = train_data.Loan_Status\n",
    "\n",
    "X.Education.replace(('Graduate','Not Graduate'), (1,0), inplace=True)\n",
    "X.Self_Employed.replace(('Yes','No'), (1,0), inplace=True)\n",
    "X.Dependents.replace(('1','2','3','3+'),(1,2,3,4), inplace= True)\n",
    "\n",
    "X.LoanAmount = X.LoanAmount.fillna(X.LoanAmount.mean())\n",
    "X.Dependents = X.Dependents.fillna(X.Dependents.median())\n",
    "X.Education = X.Education.fillna(X.Education.median())\n",
    "X.Self_Employed = X.Self_Employed.fillna(X.Self_Employed.median())\n",
    "X.ApplicantIncome = X.ApplicantIncome.fillna(X.ApplicantIncome.mean())\n",
    "X.CoapplicantIncome = X.CoapplicantIncome.fillna(X.CoapplicantIncome.mean())\n",
    "X.Loan_Amount_Term = X.Loan_Amount_Term.fillna(X.Loan_Amount_Term.median())\n",
    "X.Credit_History = X.Credit_History.fillna(X.Credit_History.median())"
   ]
  },
  {
   "cell_type": "code",
   "execution_count": 3,
   "metadata": {},
   "outputs": [
    {
     "data": {
      "text/plain": [
       "SVC(C=1.0, cache_size=200, class_weight=None, coef0=0.0,\n",
       "  decision_function_shape='ovr', degree=3, gamma='auto', kernel='linear',\n",
       "  max_iter=-1, probability=False, random_state=None, shrinking=True,\n",
       "  tol=0.001, verbose=False)"
      ]
     },
     "execution_count": 3,
     "metadata": {},
     "output_type": "execute_result"
    }
   ],
   "source": [
    "from sklearn.svm import SVC\n",
    "\n",
    "svc = SVC(kernel='linear')\n",
    "svc.fit(X,y)"
   ]
  },
  {
   "cell_type": "code",
   "execution_count": 4,
   "metadata": {},
   "outputs": [
    {
     "name": "stdout",
     "output_type": "stream",
     "text": [
      "0.7850162866449512\n"
     ]
    }
   ],
   "source": [
    "y_pred = svc.predict(X)\n",
    "\n",
    "from sklearn import metrics\n",
    "\n",
    "print (metrics.accuracy_score(y,y_pred))"
   ]
  },
  {
   "cell_type": "code",
   "execution_count": 5,
   "metadata": {},
   "outputs": [
    {
     "name": "stderr",
     "output_type": "stream",
     "text": [
      "/usr/local/lib/python3.5/dist-packages/pandas/core/generic.py:4619: SettingWithCopyWarning: \n",
      "A value is trying to be set on a copy of a slice from a DataFrame\n",
      "\n",
      "See the caveats in the documentation: http://pandas.pydata.org/pandas-docs/stable/indexing.html#indexing-view-versus-copy\n",
      "  self._update_inplace(new_data)\n",
      "/usr/local/lib/python3.5/dist-packages/pandas/core/generic.py:3643: SettingWithCopyWarning: \n",
      "A value is trying to be set on a copy of a slice from a DataFrame.\n",
      "Try using .loc[row_indexer,col_indexer] = value instead\n",
      "\n",
      "See the caveats in the documentation: http://pandas.pydata.org/pandas-docs/stable/indexing.html#indexing-view-versus-copy\n",
      "  self[name] = value\n"
     ]
    }
   ],
   "source": [
    "test_data = pd.read_csv('../datasets/LoanTestData.csv')\n",
    "\n",
    "X_test = test_data[['Dependents','Education','Self_Employed','ApplicantIncome','CoapplicantIncome','LoanAmount','Loan_Amount_Term','Credit_History']]\n",
    "\n",
    "X_test.Education.replace(('Graduate','Not Graduate'), (1,0), inplace=True)\n",
    "X_test.Self_Employed.replace(('Yes','No'), (1,0), inplace=True)\n",
    "X_test.Dependents.replace(('1','2','3','3+'),(1,2,3,4), inplace= True)\n",
    "\n",
    "X_test.LoanAmount = X_test.LoanAmount.fillna(X_test.LoanAmount.mean())\n",
    "X_test.Dependents = X_test.Dependents.fillna(X_test.Dependents.median())\n",
    "X_test.Education = X_test.Education.fillna(X_test.Education.median())\n",
    "X_test.Self_Employed = X_test.Self_Employed.fillna(X_test.Self_Employed.median())\n",
    "X_test.ApplicantIncome = X_test.ApplicantIncome.fillna(X_test.ApplicantIncome.mean())\n",
    "X_test.CoapplicantIncome = X_test.CoapplicantIncome.fillna(X_test.CoapplicantIncome.mean())\n",
    "X_test.Loan_Amount_Term = X_test.Loan_Amount_Term.fillna(X_test.Loan_Amount_Term.median())\n",
    "X_test.Credit_History = X_test.Credit_History.fillna(X_test.Credit_History.median())"
   ]
  },
  {
   "cell_type": "code",
   "execution_count": 6,
   "metadata": {},
   "outputs": [],
   "source": [
    "y_test_predict = svc.predict(X_test)\n",
    "\n",
    "y_test_list = list(zip(test_data.Loan_ID, y_test_predict))\n",
    "\n",
    "df = pd.DataFrame(y_test_list, columns = ['Loan_ID','Loan_Status'])\n",
    "df.to_csv('../predicted.csv')"
   ]
  },
  {
   "cell_type": "code",
   "execution_count": null,
   "metadata": {},
   "outputs": [],
   "source": []
  }
 ],
 "metadata": {
  "kernelspec": {
   "display_name": "Python 3",
   "language": "python",
   "name": "python3"
  },
  "language_info": {
   "codemirror_mode": {
    "name": "ipython",
    "version": 3
   },
   "file_extension": ".py",
   "mimetype": "text/x-python",
   "name": "python",
   "nbconvert_exporter": "python",
   "pygments_lexer": "ipython3",
   "version": "3.6.3"
  }
 },
 "nbformat": 4,
 "nbformat_minor": 2
}
