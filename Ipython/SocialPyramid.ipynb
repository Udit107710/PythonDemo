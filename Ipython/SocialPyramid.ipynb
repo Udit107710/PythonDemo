{
 "cells": [
  {
   "cell_type": "code",
   "execution_count": 1,
   "metadata": {},
   "outputs": [],
   "source": [
    "from pymongo import MongoClient\n",
    "import numpy as np\n",
    "import matplotlib.pyplot as plt\n",
    "import pandas as pd\n",
    "import json \n",
    "import bson"
   ]
  },
  {
   "cell_type": "code",
   "execution_count": 2,
   "metadata": {},
   "outputs": [],
   "source": [
    "client = MongoClient(\"192.168.1.28\", 27017)"
   ]
  },
  {
   "cell_type": "code",
   "execution_count": 3,
   "metadata": {},
   "outputs": [
    {
     "data": {
      "text/plain": [
       "['twitter',\n",
       " 'disqus',\n",
       " 'twitter_search',\n",
       " 'instagram',\n",
       " 'facebook',\n",
       " 'pastebin',\n",
       " 'youtube']"
      ]
     },
     "execution_count": 3,
     "metadata": {},
     "output_type": "execute_result"
    }
   ],
   "source": [
    "client.beta.list_collection_names()"
   ]
  },
  {
   "cell_type": "code",
   "execution_count": 9,
   "metadata": {},
   "outputs": [],
   "source": [
    "insta_db = client.beta.instagram\n",
    "fb_db = client.beta.facebook\n",
    "twitter_db = client.beta.twitter"
   ]
  },
  {
   "cell_type": "code",
   "execution_count": 10,
   "metadata": {},
   "outputs": [],
   "source": [
    "df = pd.DataFrame.from_dict(insta_db.find_one(),orient='index')\n",
    "\n",
    "case = insta_db.find({'type':'user'})"
   ]
  },
  {
   "cell_type": "code",
   "execution_count": 13,
   "metadata": {},
   "outputs": [],
   "source": [
    "def user_parser(data):\n",
    "    user_id = data['user_id']\n",
    "    username = data['_id']\n",
    "    \n",
    "    external_url = []\n",
    "    for url in data['external_url']:\n",
    "        external_url.append(url['url'])\n",
    "    \n",
    "    profile_pic = []\n",
    "    for url in data['profile_pic']:\n",
    "        profile_pic.append(url['url'])\n",
    "    \n",
    "    is_verfied = data['is_verified']\n",
    "    \n",
    "    about=[]\n",
    "    for text in data['about']:\n",
    "        about.append(text['text'])\n",
    "        \n",
    "    posts={}\n",
    "    for post in data['posts']:\n",
    "        posts['id'] = post['id']\n",
    "        posts['shortcode'] = post['shortcode']\n",
    "        posts['url'] = post['url']\n",
    "        for caption in post['caption']:\n",
    "            posts['caption'] = caption['text']\n",
    "        #posts['likes'] = post['likes']\n",
    "        \n",
    "    followers = {}\n",
    "    follower_username = []\n",
    "    follower_user_id = []\n",
    "    follower_name = []\n",
    "    for follower in data['followers']:\n",
    "        follower_username.append(follower['username'])\n",
    "        follower_user_id.append(follower['user_id'])\n",
    "        follower_name.append(follower['name'])\n",
    "    followers['username'] = follower_username\n",
    "    followers['user_id'] = follower_user_id\n",
    "    followers['name'] = follower_name\n",
    "    \n",
    "    \n",
    "    followings = {}\n",
    "    following_username = []\n",
    "    following_user_id = []\n",
    "    following_name = []\n",
    "    for following in data['following']:\n",
    "        following_username.append(following['username'])\n",
    "        following_user_id.append(following['user_id'])\n",
    "        following_name.append(following['name'])\n",
    "    followings['username'] = following_username\n",
    "    followings['user_id'] = following_user_id\n",
    "    followings['name'] = following_name"
   ]
  },
  {
   "cell_type": "code",
   "execution_count": 14,
   "metadata": {},
   "outputs": [],
   "source": [
    "for t in case:\n",
    "    print('hello')\n",
    "    user_parser(t)\n",
    "    print('jello',\"\\n\\n\\n\")\n",
    "    "
   ]
  },
  {
   "cell_type": "code",
   "execution_count": null,
   "metadata": {},
   "outputs": [],
   "source": [
    "def post_parser(post):\n",
    "    post_id = post['post_id']\n",
    "    user_id = post['user_id']\n",
    "    \n",
    "    like_info = {}\n",
    "    full_names = []\n",
    "    usernames = []\n",
    "    user_ids = []\n",
    "    for like in post['likes']:\n",
    "        full_names.append(like['full_name'])\n",
    "        usernames.appned(like['usernames'])\n",
    "        user_ids.append(like['user_id'])\n",
    "    like_info['full_name'] = full_names\n",
    "    like_info['username'] = usernames\n",
    "    like_info['user_id'] = user_ids\n",
    "    \n",
    "    media = {}\n",
    "    media_url = []\n",
    "    media_type = []\n",
    "    for media_info in post['media_info']:\n",
    "        media_url.append(media_info['url'])\n",
    "        media_type.append(media_info['type'])\n",
    "    media['url'] = media_url\n",
    "    media['type'] = media_type\n",
    "    \n",
    "    comments = {}\n",
    "    comment_username = []\n",
    "    comment_id = []\n",
    "    comment_user_id = []\n",
    "    comment_tagged = []\n",
    "    for comment in post['comments']:\n",
    "        comment_username.append(comment['username'])\n",
    "        comment_user_id.append(comment['user_id'])\n",
    "        comment_id.append(comment['comment_id'])\n",
    "        comment_tagged.appned(list(comment['tagged_user'].items()))\n",
    "    comments['username'] = comment_username\n",
    "    comments['comment_id'] = comment_id\n",
    "    comments['user_id'] = comment_user_id\n",
    "    "
   ]
  }
 ],
 "metadata": {
  "kernelspec": {
   "display_name": "Python 3",
   "language": "python",
   "name": "python3"
  },
  "language_info": {
   "codemirror_mode": {
    "name": "ipython",
    "version": 3
   },
   "file_extension": ".py",
   "mimetype": "text/x-python",
   "name": "python",
   "nbconvert_exporter": "python",
   "pygments_lexer": "ipython3",
   "version": "3.6.6"
  }
 },
 "nbformat": 4,
 "nbformat_minor": 2
}
