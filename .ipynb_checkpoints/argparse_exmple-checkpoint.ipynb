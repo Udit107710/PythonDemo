{
 "cells": [
  {
   "cell_type": "code",
   "execution_count": null,
   "metadata": {},
   "outputs": [],
   "source": [
    "import argparse\n",
    "import sys\n",
    "\n",
    "def main() :\n",
    "    parser = argparse.ArgumentParser()\n",
    "    parser.add_argument('--x',type = float, default = 4.0, help = 'The first number')\n",
    "    parser.add_argument('--y',type = float, default = 5.0, help = 'The second number')\n",
    "    parser.add_argument('--operation', type = str, default = 'add', help = 'The operation to be performed(add,sub,mul or div)')\n",
    "    \n",
    "    args = parser.parse_args()\n",
    "    sys.stdout.write(str(calc(args)))\n",
    "    sys.stdout.write('\\n')\n",
    "    \n",
    "def calc(args):\n",
    "    if args.operation == 'add':\n",
    "                         return args.x + args.y \n",
    "    if args.operation == 'sub':\n",
    "                         return args.x - args.y\n",
    "    if args.operation == 'mul':\n",
    "                         return args.x * args.y \n",
    "    if args.operation == 'div':\n",
    "                         return args.x / args.y\n",
    "        \n",
    "if __name__ == '__main__':\n",
    "    main()"
   ]
  },
  {
   "cell_type": "code",
   "execution_count": null,
   "metadata": {},
   "outputs": [],
   "source": []
  }
 ],
 "metadata": {
  "kernelspec": {
   "display_name": "Python 3",
   "language": "python",
   "name": "python3"
  },
  "language_info": {
   "codemirror_mode": {
    "name": "ipython",
    "version": 3
   },
   "file_extension": ".py",
   "mimetype": "text/x-python",
   "name": "python",
   "nbconvert_exporter": "python",
   "pygments_lexer": "ipython3",
   "version": "3.5.2"
  }
 },
 "nbformat": 4,
 "nbformat_minor": 2
}
