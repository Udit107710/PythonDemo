{
 "cells": [
  {
   "cell_type": "code",
   "execution_count": 1,
   "metadata": {},
   "outputs": [],
   "source": [
    "from html.parser import HTMLParser\n",
    "import re\n",
    "import time\n",
    "from selenium import webdriver\n",
    "from selenium.webdriver.common.keys import Keys\n",
    "import os\n",
    "from tqdm import tqdm\n",
    "import pickle\n",
    "import getpass"
   ]
  },
  {
   "cell_type": "code",
   "execution_count": null,
   "metadata": {},
   "outputs": [],
   "source": [
    "username = input(\"Facebook username:\")\n",
    "password = getpass.getpass('Password:')"
   ]
  },
  {
   "cell_type": "code",
   "execution_count": null,
   "metadata": {},
   "outputs": [],
   "source": [
    "chrome_options = webdriver.ChromeOptions()\n",
    "prefs = {\"profile.default_content_setting_values.notifications\" : 2}\n",
    "chrome_options.add_experimental_option(\"prefs\",prefs)\n",
    "driver = webdriver.Chrome(chrome_options=chrome_options)\n",
    "\n",
    "driver.get('http://www.facebook.com/')"
   ]
  },
  {
   "cell_type": "code",
   "execution_count": null,
   "metadata": {},
   "outputs": [],
   "source": [
    "# authenticate to facebook account\n",
    "elem = driver.find_element_by_id(\"email\")\n",
    "elem.send_keys(username)\n",
    "elem = driver.find_element_by_id(\"pass\")\n",
    "elem.send_keys(password)\n",
    "elem.send_keys(Keys.RETURN)\n",
    "time.sleep(5)\n",
    "\n",
    "SCROLL_PAUSE_TIME = 2"
   ]
  },
  {
   "cell_type": "code",
   "execution_count": null,
   "metadata": {},
   "outputs": [],
   "source": [
    "def get_fb_page(url):\n",
    "    time.sleep(2)\n",
    "    driver.get(url)\n",
    "\n",
    "    # Get scroll height\n",
    "    last_height = driver.execute_script(\"return document.body.scrollHeight\")\n",
    "\n",
    "    while True:\n",
    "        # Scroll down to bottom\n",
    "        driver.execute_script(\"window.scrollTo(0, document.body.scrollHeight);\")\n",
    "\n",
    "        # Wait to load page\n",
    "        time.sleep(SCROLL_PAUSE_TIME)\n",
    "\n",
    "        # Calculate new scroll height and compare with last scroll height\n",
    "        new_height = driver.execute_script(\"return document.body.scrollHeight\")\n",
    "        if new_height == last_height:\n",
    "            break\n",
    "        last_height = new_height\n",
    "    html_source = driver.page_source\n",
    "    return html_source"
   ]
  },
  {
   "cell_type": "code",
   "execution_count": null,
   "metadata": {},
   "outputs": [],
   "source": [
    "def find_friend_from_url(url):\n",
    "    if re.search('com\\/profile.php\\?id=\\d+\\&', url) is not None:\n",
    "        m = re.search('com\\/profile.php\\?id=(\\d+)\\&', url)\n",
    "        friend = m.group(1)\n",
    "    else:\n",
    "        m = re.search('com\\/(.*)\\?', url)\n",
    "        friend = m.group(1)\n",
    "    return friend"
   ]
  },
  {
   "cell_type": "code",
   "execution_count": null,
   "metadata": {},
   "outputs": [],
   "source": [
    "class MyHTMLParser(HTMLParser):\n",
    "    urls = []\n",
    "\n",
    "    def error(self, message):\n",
    "        pass\n",
    "\n",
    "    def handle_starttag(self, tag, attrs):\n",
    "        # Only parse the 'anchor' tag.\n",
    "        if tag == \"a\":\n",
    "            # Check the list of defined attributes.\n",
    "            for name, value in attrs:\n",
    "                # If href is defined, print it.\n",
    "                if name == \"href\":\n",
    "                    if re.search('\\?href|&href|hc_loca|\\?fref', value) is not None:\n",
    "                        if re.search('.com/pages', value) is None:\n",
    "                            self.urls.append(value)"
   ]
  },
  {
   "cell_type": "code",
   "execution_count": null,
   "metadata": {},
   "outputs": [],
   "source": [
    "my_url = 'http://www.facebook.com/' + username + '/friends'\n",
    "\n",
    "UNIQ_FILENAME = 'uniq_urls.pickle'\n",
    "if os.path.isfile(UNIQ_FILENAME):\n",
    "    with open(UNIQ_FILENAME, 'rb') as f:\n",
    "        uniq_urls = pickle.load(f)\n",
    "    print('We loaded {} uniq friends'.format(len(uniq_urls)))\n",
    "else:\n",
    "    friends_page = get_fb_page(my_url)\n",
    "    parser = MyHTMLParser()\n",
    "    parser.feed(friends_page)\n",
    "    uniq_urls = set(parser.urls)\n",
    "\n",
    "    print('We found {} friends, saving it'.format(len(uniq_urls)))\n",
    "\n",
    "    with open(UNIQ_FILENAME, 'wb') as f:\n",
    "        pickle.dump(uniq_urls, f)"
   ]
  },
  {
   "cell_type": "code",
   "execution_count": null,
   "metadata": {},
   "outputs": [],
   "source": [
    "friend_graph = {}\n",
    "GRAPH_FILENAME = 'friend_graph.pickle'\n",
    "\n",
    "if os.path.isfile(GRAPH_FILENAME):\n",
    "    with open(GRAPH_FILENAME, 'rb') as f:\n",
    "        friend_graph = pickle.load(f)\n",
    "    print('Loaded existing graph, found {} keys'.format(len(friend_graph.keys())))\n"
   ]
  },
  {
   "cell_type": "code",
   "execution_count": null,
   "metadata": {},
   "outputs": [],
   "source": [
    "for url in tqdm(uniq_urls):\n",
    "    friend_username = find_friend_from_url(url)\n",
    "    if friend_username in friend_graph.keys():\n",
    "        continue\n",
    "\n",
    "    friend_graph[friend_username] = [username]\n",
    "    mutual_url = 'https://www.facebook.com/{}/friends_mutual'.format(friend_username)\n",
    "    mutual_page = get_fb_page(mutual_url)\n",
    "\n",
    "    parser = MyHTMLParser()\n",
    "    parser.urls = []\n",
    "    parser.feed(mutual_page)\n",
    "    mutual_friends_urls = set(parser.urls)\n",
    "    print('Found {} urls'.format(len(mutual_friends_urls)))\n",
    "\n",
    "    for mutual_url in mutual_friends_urls:\n",
    "        mutual_friend = find_friend_from_url(mutual_url)\n",
    "        friend_graph[friend_username].append(mutual_friend)\n",
    "\n",
    "    with open(GRAPH_FILENAME, 'wb') as f:\n",
    "        pickle.dump(friend_graph, f)\n",
    "\n",
    "driver.quit()"
   ]
  }
 ],
 "metadata": {
  "kernelspec": {
   "display_name": "Python 3",
   "language": "python",
   "name": "python3"
  },
  "language_info": {
   "codemirror_mode": {
    "name": "ipython",
    "version": 3
   },
   "file_extension": ".py",
   "mimetype": "text/x-python",
   "name": "python",
   "nbconvert_exporter": "python",
   "pygments_lexer": "ipython3",
   "version": "3.6.6"
  }
 },
 "nbformat": 4,
 "nbformat_minor": 2
}
